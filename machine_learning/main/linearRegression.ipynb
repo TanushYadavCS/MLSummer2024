{
 "cells": [
  {
   "cell_type": "markdown",
   "metadata": {},
   "source": [
    "<h1> Simple Linear Regression</h1>\n"
   ]
  },
  {
   "cell_type": "markdown",
   "metadata": {},
   "source": [
    "<h5>Import required libraries"
   ]
  },
  {
   "cell_type": "code",
   "execution_count": 16,
   "metadata": {},
   "outputs": [],
   "source": [
    "import pandas as pd\n",
    "import numpy as np\n",
    "import matplotlib.pyplot as plt\n",
    "import matplotlib.axes as ax\n",
    "from matplotlib.animation import FuncAnimation\n",
    "plt.style.use('dark_background')"
   ]
  },
  {
   "cell_type": "markdown",
   "metadata": {},
   "source": [
    "<h5>Import dataset"
   ]
  },
  {
   "cell_type": "code",
   "execution_count": 17,
   "metadata": {},
   "outputs": [
    {
     "data": {
      "text/html": [
       "<div>\n",
       "<style scoped>\n",
       "    .dataframe tbody tr th:only-of-type {\n",
       "        vertical-align: middle;\n",
       "    }\n",
       "\n",
       "    .dataframe tbody tr th {\n",
       "        vertical-align: top;\n",
       "    }\n",
       "\n",
       "    .dataframe thead th {\n",
       "        text-align: right;\n",
       "    }\n",
       "</style>\n",
       "<table border=\"1\" class=\"dataframe\">\n",
       "  <thead>\n",
       "    <tr style=\"text-align: right;\">\n",
       "      <th></th>\n",
       "      <th>x</th>\n",
       "      <th>y</th>\n",
       "    </tr>\n",
       "  </thead>\n",
       "  <tbody>\n",
       "    <tr>\n",
       "      <th>0</th>\n",
       "      <td>24.0</td>\n",
       "      <td>21.549452</td>\n",
       "    </tr>\n",
       "    <tr>\n",
       "      <th>1</th>\n",
       "      <td>50.0</td>\n",
       "      <td>47.464463</td>\n",
       "    </tr>\n",
       "    <tr>\n",
       "      <th>2</th>\n",
       "      <td>15.0</td>\n",
       "      <td>17.218656</td>\n",
       "    </tr>\n",
       "    <tr>\n",
       "      <th>3</th>\n",
       "      <td>38.0</td>\n",
       "      <td>36.586398</td>\n",
       "    </tr>\n",
       "    <tr>\n",
       "      <th>4</th>\n",
       "      <td>87.0</td>\n",
       "      <td>87.288984</td>\n",
       "    </tr>\n",
       "    <tr>\n",
       "      <th>...</th>\n",
       "      <td>...</td>\n",
       "      <td>...</td>\n",
       "    </tr>\n",
       "    <tr>\n",
       "      <th>695</th>\n",
       "      <td>58.0</td>\n",
       "      <td>58.595006</td>\n",
       "    </tr>\n",
       "    <tr>\n",
       "      <th>696</th>\n",
       "      <td>93.0</td>\n",
       "      <td>94.625094</td>\n",
       "    </tr>\n",
       "    <tr>\n",
       "      <th>697</th>\n",
       "      <td>82.0</td>\n",
       "      <td>88.603770</td>\n",
       "    </tr>\n",
       "    <tr>\n",
       "      <th>698</th>\n",
       "      <td>66.0</td>\n",
       "      <td>63.648685</td>\n",
       "    </tr>\n",
       "    <tr>\n",
       "      <th>699</th>\n",
       "      <td>97.0</td>\n",
       "      <td>94.975266</td>\n",
       "    </tr>\n",
       "  </tbody>\n",
       "</table>\n",
       "<p>700 rows × 2 columns</p>\n",
       "</div>"
      ],
      "text/plain": [
       "        x          y\n",
       "0    24.0  21.549452\n",
       "1    50.0  47.464463\n",
       "2    15.0  17.218656\n",
       "3    38.0  36.586398\n",
       "4    87.0  87.288984\n",
       "..    ...        ...\n",
       "695  58.0  58.595006\n",
       "696  93.0  94.625094\n",
       "697  82.0  88.603770\n",
       "698  66.0  63.648685\n",
       "699  97.0  94.975266\n",
       "\n",
       "[700 rows x 2 columns]"
      ]
     },
     "execution_count": 17,
     "metadata": {},
     "output_type": "execute_result"
    }
   ],
   "source": [
    "ds = \"./datasets/linearRegression.csv\"\n",
    "data = pd.read_csv(ds)\n",
    "data"
   ]
  },
  {
   "cell_type": "markdown",
   "metadata": {},
   "source": [
    "<h5>Split the dataset\n"
   ]
  },
  {
   "cell_type": "code",
   "execution_count": 18,
   "metadata": {},
   "outputs": [],
   "source": [
    "data = data.dropna()\n",
    "X_train = np.array(data.x[0:500]).reshape(500,1)\n",
    "y_train = np.array(data.y[0:500]).reshape(500,1)\n",
    "X_test = np.array(data.x[500:700]).reshape(199, 1)\n",
    "y_test = np.array(data.y[500:700]).reshape(199, 1)\n"
   ]
  },
  {
   "cell_type": "markdown",
   "metadata": {},
   "source": [
    "<h5>Define linear regression model"
   ]
  },
  {
   "cell_type": "code",
   "execution_count": 19,
   "metadata": {},
   "outputs": [],
   "source": [
    "class LinearRegression:\n",
    "    def __init__(self):\n",
    "        self.parameters = {}\n",
    "\n",
    "    def forward_propagation(self, X_train):\n",
    "        m = self.parameters['m']\n",
    "        c = self.parameters['c']\n",
    "        predictions = np.multiply(m, X_train)+c\n",
    "        return predictions\n",
    "\n",
    "    def cost_function(self, predictions, y_train):\n",
    "        cost = np.mean((y_train-predictions) ** 2)\n",
    "        return cost\n",
    "\n",
    "    def backward_propagation(self, X_train, y_train, predictions):\n",
    "        derivatives = {}\n",
    "        df = (predictions-y_train)\n",
    "        dm = 2 * np.mean(np.multiply(X_train, df))\n",
    "        dc = 2*np.mean(df)\n",
    "        derivatives['dm'] = dm\n",
    "        derivatives['dc'] = dc\n",
    "        return derivatives\n",
    "\n",
    "    def update_parameters(self, derivatives, learning_rate):\n",
    "        self.parameters['m'] = self.parameters['m'] - \\\n",
    "            learning_rate*derivatives['dm']\n",
    "        self.parameters['c'] = self.parameters['c'] - \\\n",
    "            learning_rate*derivatives['dc']\n",
    "\n",
    "    def train(self, X_train, y_train, learning_rate, iters):\n",
    "        self.parameters['m'] = np.random.uniform(0, 1)*-1\n",
    "        self.parameters['c'] = np.random.uniform(0, 1)*-1\n",
    "        self.loss = []\n",
    "        fig, ax = plt.subplots()\n",
    "        x_vals = np.linspace(min(X_train), max(X_train), 100)\n",
    "        line, = ax.plot(x_vals, self.parameters['m'] * x_vals +\n",
    "                       self.parameters['c'], color='red', label='Regression Line')\n",
    "        ax.scatter(X_train, y_train, marker='o',\n",
    "                   color='#28fc03', label='Training Data')\n",
    "        ax.set_ylim(0, max(y_train)+1)\n",
    "\n",
    "        def update(frame):\n",
    "            predictions = self.forward_propagation(X_train)\n",
    "            cost = self.cost_function(predictions, y_train)\n",
    "            derivatives = self.backward_propagation(\n",
    "                X_train, y_train, predictions)\n",
    "            self.update_parameters(derivatives, learning_rate)\n",
    "            line.set_ydata(self.parameters['m']*x_vals+self.parameters['c'])\n",
    "            self.loss.append(cost)\n",
    "            print(\"Iteration = {}, Loss={}\".format(frame+1, cost))\n",
    "            return line,\n",
    "        ani = FuncAnimation(fig, update, frames=iters, interval=200, blit=True)\n",
    "        ani.save('./outputs/linearRegression.gif', writer='ffmpeg', dpi=200, fps=20)\n",
    "        plt.xlabel('Input')\n",
    "        plt.ylabel('Output')\n",
    "        plt.title('Linear Regression')\n",
    "        plt.legend()\n",
    "        plt.savefig('./outputs/linearRegression.png', dpi=200)\n",
    "        plt.show()\n",
    "    \n",
    "        return self.parameters, self.loss"
   ]
  },
  {
   "cell_type": "markdown",
   "metadata": {},
   "source": [
    "<h5>Train the model and give the final prediction"
   ]
  },
  {
   "cell_type": "code",
   "execution_count": 20,
   "metadata": {},
   "outputs": [
    {
     "name": "stdout",
     "output_type": "stream",
     "text": [
      "Iteration = 1, Loss=9206.322579270765\n",
      "Iteration = 1, Loss=1116.372906939834\n",
      "Iteration = 1, Loss=141.44592793363563\n",
      "Iteration = 2, Loss=23.956613875725093\n",
      "Iteration = 3, Loss=9.797869650543507\n",
      "Iteration = 4, Loss=8.091583602423606\n",
      "Iteration = 5, Loss=7.8859542808905765\n",
      "Iteration = 6, Loss=7.861170426385233\n",
      "Iteration = 7, Loss=7.858180419067997\n",
      "Iteration = 8, Loss=7.857816807842812\n",
      "Iteration = 9, Loss=7.85776970625963\n",
      "Iteration = 10, Loss=7.857760747863472\n",
      "Iteration = 11, Loss=7.857756386467114\n",
      "Iteration = 12, Loss=7.857752579389886\n",
      "Iteration = 13, Loss=7.857748839444738\n",
      "Iteration = 14, Loss=7.857745107920295\n",
      "Iteration = 15, Loss=7.857741377741167\n",
      "Iteration = 16, Loss=7.857737648054661\n",
      "Iteration = 17, Loss=7.857733918757981\n",
      "Iteration = 18, Loss=7.857730189838705\n",
      "Iteration = 19, Loss=7.8577264612953055\n",
      "Iteration = 20, Loss=7.857722733127566\n"
     ]
    },
    {
     "data": {
      "image/png": "[encoded data removed]",
      "text/plain": [
       "<Figure size 432x288 with 1 Axes>"
      ]
     },
     "metadata": {},
     "output_type": "display_data"
    }
   ],
   "source": [
    "linear_reg = LinearRegression()\n",
    "parameters, loss = linear_reg.train(X_train, y_train, 0.0001, 20)"
   ]
  }
 ],
 "metadata": {
  "kernelspec": {
   "display_name": "Python 3",
   "language": "python",
   "name": "python3"
  },
  "language_info": {
   "codemirror_mode": {
    "name": "ipython",
    "version": 3
   },
   "file_extension": ".py",
   "mimetype": "text/x-python",
   "name": "python",
   "nbconvert_exporter": "python",
   "pygments_lexer": "ipython3",
   "version": "3.10.12"
  }
 },
 "nbformat": 4,
 "nbformat_minor": 2
}
