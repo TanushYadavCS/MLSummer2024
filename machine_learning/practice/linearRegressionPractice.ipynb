{
 "cells": [
  {
   "cell_type": "markdown",
   "metadata": {},
   "source": [
    "# Simple Linear Regression (Practice)"
   ]
  },
  {
   "cell_type": "markdown",
   "metadata": {},
   "source": [
    "##### Import libraries"
   ]
  },
  {
   "cell_type": "code",
   "execution_count": 61,
   "metadata": {},
   "outputs": [],
   "source": [
    "import numpy as np\n",
    "import pandas as pd\n",
    "import matplotlib.pyplot as plt\n",
    "import matplotlib.axes as ax\n",
    "from matplotlib.animation import FuncAnimation"
   ]
  },
  {
   "cell_type": "markdown",
   "metadata": {},
   "source": [
    "##### Import and Split Dataset"
   ]
  },
  {
   "cell_type": "code",
   "execution_count": 62,
   "metadata": {},
   "outputs": [
    {
     "data": {
      "text/html": [
       "<div>\n",
       "<style scoped>\n",
       "    .dataframe tbody tr th:only-of-type {\n",
       "        vertical-align: middle;\n",
       "    }\n",
       "\n",
       "    .dataframe tbody tr th {\n",
       "        vertical-align: top;\n",
       "    }\n",
       "\n",
       "    .dataframe thead th {\n",
       "        text-align: right;\n",
       "    }\n",
       "</style>\n",
       "<table border=\"1\" class=\"dataframe\">\n",
       "  <thead>\n",
       "    <tr style=\"text-align: right;\">\n",
       "      <th></th>\n",
       "      <th>x</th>\n",
       "      <th>y</th>\n",
       "    </tr>\n",
       "  </thead>\n",
       "  <tbody>\n",
       "    <tr>\n",
       "      <th>0</th>\n",
       "      <td>24.0</td>\n",
       "      <td>21.549452</td>\n",
       "    </tr>\n",
       "    <tr>\n",
       "      <th>1</th>\n",
       "      <td>50.0</td>\n",
       "      <td>47.464463</td>\n",
       "    </tr>\n",
       "    <tr>\n",
       "      <th>2</th>\n",
       "      <td>15.0</td>\n",
       "      <td>17.218656</td>\n",
       "    </tr>\n",
       "    <tr>\n",
       "      <th>3</th>\n",
       "      <td>38.0</td>\n",
       "      <td>36.586398</td>\n",
       "    </tr>\n",
       "    <tr>\n",
       "      <th>4</th>\n",
       "      <td>87.0</td>\n",
       "      <td>87.288984</td>\n",
       "    </tr>\n",
       "    <tr>\n",
       "      <th>...</th>\n",
       "      <td>...</td>\n",
       "      <td>...</td>\n",
       "    </tr>\n",
       "    <tr>\n",
       "      <th>695</th>\n",
       "      <td>58.0</td>\n",
       "      <td>58.595006</td>\n",
       "    </tr>\n",
       "    <tr>\n",
       "      <th>696</th>\n",
       "      <td>93.0</td>\n",
       "      <td>94.625094</td>\n",
       "    </tr>\n",
       "    <tr>\n",
       "      <th>697</th>\n",
       "      <td>82.0</td>\n",
       "      <td>88.603770</td>\n",
       "    </tr>\n",
       "    <tr>\n",
       "      <th>698</th>\n",
       "      <td>66.0</td>\n",
       "      <td>63.648685</td>\n",
       "    </tr>\n",
       "    <tr>\n",
       "      <th>699</th>\n",
       "      <td>97.0</td>\n",
       "      <td>94.975266</td>\n",
       "    </tr>\n",
       "  </tbody>\n",
       "</table>\n",
       "<p>700 rows × 2 columns</p>\n",
       "</div>"
      ],
      "text/plain": [
       "        x          y\n",
       "0    24.0  21.549452\n",
       "1    50.0  47.464463\n",
       "2    15.0  17.218656\n",
       "3    38.0  36.586398\n",
       "4    87.0  87.288984\n",
       "..    ...        ...\n",
       "695  58.0  58.595006\n",
       "696  93.0  94.625094\n",
       "697  82.0  88.603770\n",
       "698  66.0  63.648685\n",
       "699  97.0  94.975266\n",
       "\n",
       "[700 rows x 2 columns]"
      ]
     },
     "execution_count": 62,
     "metadata": {},
     "output_type": "execute_result"
    }
   ],
   "source": [
    "url = \"./datasets/iris.csv\"\n",
    "data = pd.read_csv(url)\n",
    "data"
   ]
  },
  {
   "cell_type": "markdown",
   "metadata": {},
   "source": [
    "Here, we will be using 70% data for training the model and 30% data for testing our hypotheses. We will be using sepal length to determine the species of the the flower.\n"
   ]
  },
  {
   "cell_type": "code",
   "execution_count": 63,
   "metadata": {},
   "outputs": [],
   "source": [
    "xTrain = np.array(data.sLength[0:105]).reshape(105,1)\n",
    "xTest = np.array(data.sLength[105:150]).reshape(45,1)\n",
    "yTrain = np.array(data.pWidth[0:105]).reshape(105,1)\n",
    "yTest = np.array(data.pWidth[105:150]).reshape(45,1)"
   ]
  },
  {
   "cell_type": "markdown",
   "metadata": {},
   "source": [
    "##### Define the linear regression model\n"
   ]
  },
  {
   "cell_type": "code",
   "execution_count": 64,
   "metadata": {},
   "outputs": [],
   "source": [
    "class LinearRegression:\n",
    "    def __init__(self):\n",
    "        self.parameters = {}\n",
    "\n",
    "    def forwardPropagate(self, xTrain):\n",
    "        m = self.parameters['m']\n",
    "        c = self.parameters['c']\n",
    "        predictions = np.multiply(m, xTrain)+c\n",
    "        return predictions\n",
    "\n",
    "    def costFunction(self, predictions, yTrain):\n",
    "        cost = np.mean((yTrain-predictions)**2)\n",
    "        return cost\n",
    "\n",
    "    def backwardPropagate(self, xTrain, yTrain, predictions):\n",
    "        derivatives = {}\n",
    "        df = (yTrain-predictions)\n",
    "        derivatives['dm'] = 2*np.mean(np.multiply(xTrain, df))\n",
    "        derivatives['dc'] = 2*np.mean(df)\n",
    "        return derivatives\n",
    "\n",
    "    def updateParameters(self, derivatives, learningRate):\n",
    "      self.parameters['m'] = self.parameters['m'] - \\\n",
    "            learningRate*derivatives['dm']\n",
    "      self.parameters['c'] = self.parameters['c'] - \\\n",
    "            learningRate*derivatives['dc']\n",
    "\n",
    "    def train(self, xTrain, yTrain, learningRate, iters):\n",
    "        self.parameters['m'] = np.random.uniform(0, 1)*-1\n",
    "        self.parameters['c'] = np.random.uniform(0, 1)*-1\n",
    "        self.loss = []\n",
    "        fig, ax = plt.subplots()\n",
    "        xVals = np.linspace(min(xTrain), max(xTrain))\n",
    "        line, = ax.plot(\n",
    "            xVals, self.parameters['m']*xVals+self.parameters['c'], color='blue', label='Regression Line')\n",
    "        ax.scatter(xTrain, yTrain, marker='o',\n",
    "                   color='red', label='Training Data')\n",
    "        ax.set_ylim(0, max(yTrain)+1)\n",
    "\n",
    "        def update(frame):\n",
    "            predictions = self.forwardPropagation(xTrain)\n",
    "            cost = self.costFunction(predictions, yTrain)\n",
    "            derivatives = self.backwardPropagate(xTrain, yTrain, predictions)\n",
    "            self.updateParameters(derivatives, learningRate)\n",
    "            line.set_ydata(self.parameters['m']*xVals+self.parameters['c'])\n",
    "            self.loss.append(cost)\n",
    "            print(\"Iteration = {}, Lost = {}\".format(frame+1, cost))\n",
    "            return line,\n",
    "        ani = FuncAnimation(fig, update, frames=iters, interval=41,blit=True)\n",
    "        ani.save('linearRegression.gif', writer='ffmpeg')\n",
    "        plt.xlabel('Input')\n",
    "        plt.ylabel('Output')\n",
    "        plt.title('Simple Linear Regression')\n",
    "        plt.legend()\n",
    "        plt.show()\n",
    "        return self.parameters, self.loss"
   ]
  },
  {
   "cell_type": "markdown",
   "metadata": {},
   "source": [
    "##### Train the Model and Display Output"
   ]
  },
  {
   "cell_type": "code",
   "execution_count": 65,
   "metadata": {},
   "outputs": [
    {
     "name": "stdout",
     "output_type": "stream",
     "text": [
      "Iteration = 1, Loss=6049.340453837536\n",
      "Iteration = 1, Loss=1514.062311929786\n",
      "Iteration = 1, Loss=383.98645748023756\n",
      "Iteration = 2, Loss=102.40030174271094\n",
      "Iteration = 3, Loss=32.2361726733232\n",
      "Iteration = 4, Loss=14.75302892473775\n",
      "Iteration = 5, Loss=10.396645233580644\n",
      "Iteration = 6, Loss=9.3111158875889\n",
      "Iteration = 7, Loss=9.04060015768174\n",
      "Iteration = 8, Loss=8.97316507060527\n",
      "Iteration = 9, Loss=8.95633251191096\n",
      "Iteration = 10, Loss=8.952108818236734\n",
      "Iteration = 11, Loss=8.95102693615698\n",
      "Iteration = 12, Loss=8.950727917030159\n",
      "Iteration = 13, Loss=8.950623970923525\n",
      "Iteration = 14, Loss=8.950568635553108\n",
      "Iteration = 15, Loss=8.95052541624691\n",
      "Iteration = 16, Loss=8.950485219461546\n",
      "Iteration = 17, Loss=8.950445779317162\n",
      "Iteration = 18, Loss=8.950406531213778\n",
      "Iteration = 19, Loss=8.950367334467034\n",
      "Iteration = 20, Loss=8.950328154021562\n"
     ]
    },
    {
     "data": {
      "image/png": "[encoded data removed]",
      "text/plain": [
       "<Figure size 432x288 with 1 Axes>"
      ]
     },
     "metadata": {
      "needs_background": "light"
     },
     "output_type": "display_data"
    }
   ],
   "source": [
    "linearReg = LinearRegression()\n",
    "parameters, loss = linearReg.train(xTrain, yTrain, 0.0001, 20)"
   ]
  }
 ],
 "metadata": {
  "kernelspec": {
   "display_name": "Python 3",
   "language": "python",
   "name": "python3"
  },
  "language_info": {
   "codemirror_mode": {
    "name": "ipython",
    "version": 3
   },
   "file_extension": ".py",
   "mimetype": "text/x-python",
   "name": "python",
   "nbconvert_exporter": "python",
   "pygments_lexer": "ipython3",
   "version": "3.10.12"
  }
 },
 "nbformat": 4,
 "nbformat_minor": 2
}
